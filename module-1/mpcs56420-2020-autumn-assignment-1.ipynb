{
 "cells": [
  {
   "cell_type": "markdown",
   "metadata": {},
   "source": [
    "# MPCS 56420 - 2020 - Autumn - Assignment 1"
   ]
  },
  {
   "cell_type": "markdown",
   "metadata": {},
   "source": [
    "## 1."
   ]
  },
  {
   "cell_type": "markdown",
   "metadata": {},
   "source": [
    "This course is composed of students from a variety of backgrounds and experiences.  Compose an brief introduction providing us with you educational background and work experience.  Specifically, let us know about your background (if any) in biology.  This will allow us to tailor the class materials at a level that is appropriate for everyone.  Next, please share your interests and motivation for taking this course and what you hope to get out of it.  Finally, if there is any particular topic that you would like us to cover in class, please make a note of it."
   ]
  },
  {
   "cell_type": "markdown",
   "metadata": {},
   "source": [
    "_Type your answer here._"
   ]
  },
  {
   "cell_type": "markdown",
   "metadata": {},
   "source": [
    "## 2."
   ]
  },
  {
   "cell_type": "markdown",
   "metadata": {},
   "source": [
    "FASTA format is a file format used to exchange information between genetic sequence databases.  A sequence in FASTA format begins with a single-line description, followed by lines of sequence data.  The description line is distinguished from the sequence data by a greater-than (\">\") symbol in the first column.   \n",
    "\n",
    "The word following the \">\" symbol is the identifier of the sequence, and the rest of the line is the description (both are optional). There should be no space between the \">\" and the first letter of the identifier. It is recommended that all lines of text be shorter than 80 characters. No blank lines are allowed in the middle of the FASTA input.  The sequence ends if another line starting with a \">\" appears; this indicates the start of another sequence. \n",
    "\n",
    "Normally, identifiers are simply protein accession, name or Entrez gi's (e.g., Q5I7T1, AG10B_HUMAN, 129295), but a bar-separated NCBI sequence identifier (e.g., gi|129295) will also be accepted. Any arbitrary user-specified sequence identifier can also be used (e.g., CLONE00073452) but you are advised to use sufficiently long unique words in such case. There should be no space between the \">\" and the first letter of the identifier. It is recommended that all lines of text be shorter than 80 characters in length.\n",
    "\n",
    "An example FASTA format of a DNA sequence:\n",
    "```\n",
    ">gi|568815587:c5227071-5225466 Homo sapiens chromosome 11, GRCh38 Primary Assembly\n",
    "ACATTTGCTTCTGACACAACTGTGTTCACTAGCAACCTCAAACAGACACCATGGTGCATCTGACTCCTGA\n",
    "GGAGAAGTCTGCCGTTACTGCCCTGTGGGGCAAGGTGAACGTGGATGAAGTTGGTGGTGAGGCCCTGGGC\n",
    "AGGTTGGTATCAAGGTTACAAGACAGGTTTAAGGAGACCAATAGAAACTGGGCATGTGGAGACAGAGAAG\n",
    "ACTCTTGGGTTTCTGATAGGCACTGACTCTCTCTGCCTATTGGTCTATTTTCCCACCCTTAGGCTGCTGG\n",
    "TGGTCTACCCTTGGACCCAGAGGTTCTTTGAGTCCTTTGGGGATCTGTCCACTCCTGATGCTGTTATGGG\n",
    "CAACCCTAAGGTGAAGGCTCATGGCAAGAAAGTGCTCGGTGCCTTTAGTGATGGCCTGGCTCACCTGGAC\n",
    "AACCTCAAGGGCACCTTTGCCACACTGAGTGAGCTGCACTGTGACAAGCTGCACGTGGATCCTGAGAACT\n",
    "TCAGGGTGAGTCTATGGGACGCTTGATGTTTTCTTTCCCCTTCTTTTCTATGGTTAAGTTCATGTCATAG\n",
    "GAAGGGGATAAGTAACAGGGTACAGTTTAGAATGGGAAACAGACGAATGATTGCATCAGTGTGGAAGTCT\n",
    "CAGGATCGTTTTAGTTTCTTTTATTTGCTGTTCATAACAATTGTTTTCTTTTGTTTAATTCTTGCTTTCT\n",
    "TTTTTTTTCTTCTCCGCAATTTTTACTATTATACTTAATGCCTTAACATTGTGTATAACAAAAGGAAATA\n",
    "TCTCTGAGATACATTAAGTAACTTAAAAAAAAACTTTACACAGTCTGCCTAGTACATTACTATTTGGAAT\n",
    "ATATGTGTGCTTATTTGCATATTCATAATCTCCCTACTTTATTTTCTTTTATTTTTAATTGATACATAAT\n",
    "CATTATACATATTTATGGGTTAAAGTGTAATGTTTTAATATGTGTACACATATTGACCAAATCAGGGTAA\n",
    "TTTTGCATTTGTAATTTTAAAAAATGCTTTCTTCTTTTAATATACTTTTTTGTTTATCTTATTTCTAATA\n",
    "CTTTCCCTAATCTCTTTCTTTCAGGGCAATAATGATACAATGTATCATGCCTCTTTGCACCATTCTAAAG\n",
    "AATAACAGTGATAATTTCTGGGTTAAGGCAATAGCAATATCTCTGCATATAAATATTTCTGCATATAAAT\n",
    "TGTAACTGATGTAAGAGGTTTCATATTGCTAATAGCAGCTACAATCCAGCTACCATTCTGCTTTTATTTT\n",
    "ATGGTTGGGATAAGGCTGGATTATTCTGAGTCCAAGCTAGGCCCTTTTGCTAATCATGTTCATACCTCTT\n",
    "ATCTTCCTCCCACAGCTCCTGGGCAACGTGCTGGTCTGTGTGCTGGCCCATCACTTTGGCAAAGAATTCA\n",
    "CCCCACCAGTGCAGGCTGCCTATCAGAAAGTGGTGGCTGGTGTGGCTAATGCCCTGGCCCACAAGTATCA\n",
    "CTAAGCTCGCTTTCTTGCTGTCCAATTTCTATTAAAGGTTCCTTTGTTCCCTAAGTCCAACTACTAAACT\n",
    "GGGGGATATTATGAAGGGCCTTGAGCATCTGGATTCTGCCTAATAAAAAACATTTATTTTCATTGC\n",
    "```\n",
    "\n",
    "An example FASTA format of a protein sequence: \n",
    "```\n",
    ">gi|5524211|gb|AAD44166.1| cytochrome b [Elephas maximus maximus]\n",
    "LCLYTHIGRNIYYGSYLYSETWNTGIMLLLITMATAFMGYVLPWGQMSFWGATVITNLFSAIPYIGTNLV\n",
    "EWIWGGFSVDKATLNRFFAFHFILPFTMVALAGVHLTFLHETGSNNPLGLTSDSDKIPFHPYYTIKDFLG\n",
    "LLILILLLLLLALLSPDMLGDPDNHMPADPLNTPLHIKPEWYFLFAYAILRSVPNKLGGVLALFLSIVIL\n",
    "GLMPFLHTSKHRSMMLRPLSQALFWTLTMDLLTLTWIGSQPVEYPYTIIGQMASILYFSIILAFLPIAGX\n",
    "IENY\n",
    "```\n",
    "\n",
    "Sequences are expected to be represented in the standard IUB/IUPAC amino acid and nucleic acid codes, with these exceptions:\n",
    "- Lower-case letters are accepted and are mapped into upper-case;\n",
    "- A single hyphen or dash can be used to represent a gap of indeterminate length;\n",
    "- In amino acid sequences, U and * are acceptable letters (see below).\n",
    "- Any numerical digits in the query sequence should either be removed or replaced by appropriate letter codes (e.g., N for unknown nucleic acid residue or X for unknown amino acid residue).\n",
    "\n",
    "The nucleic acid codes are:\n",
    "\n",
    "        A --> adenosine           M --> A C (amino)\n",
    "        C --> cytidine            S --> G C (strong)\n",
    "        G --> guanine             W --> A T (weak)\n",
    "        T --> thymidine           B --> G T C\n",
    "        U --> uridine             D --> G A T\n",
    "        R --> G A (purine)        H --> A C T\n",
    "        Y --> T C (pyrimidine)    V --> G C A\n",
    "        K --> G T (keto)          N --> A G C T (any)\n",
    "                                  -  gap of indeterminate length\n",
    "                                  \n",
    "The accepted amino acid codes are:\n",
    "\n",
    "        A  alanine                         P  proline\n",
    "        B  aspartate or asparagine         Q  glutamine\n",
    "        C  cystine                         R  arginine\n",
    "        D  aspartate                       S  serine\n",
    "        E  glutamate                       T  threonine\n",
    "        F  phenylalanine                   U  selenocysteine\n",
    "        G  glycine                         V  valine\n",
    "        H  histidine                       W  tryptophan\n",
    "        I  isoleucine                      Y  tyrosine\n",
    "        K  lysine                          Z  glutamate or glutamine\n",
    "        L  leucine                         X  any\n",
    "        M  methionine                      *  translation stop\n",
    "        N  asparagine                      -  gap of indeterminate length\n",
    "\n",
    "\n",
    "There is no standard file extension for a text file containing FASTA formatted sequences. Some commonly used extensions are `.fasta, .fas, and .fa`."
   ]
  },
  {
   "cell_type": "markdown",
   "metadata": {},
   "source": [
    "Write a FASTA file parser that accomplishes the following tasks:\n",
    "- Reads a FASTA formated file from disk\n",
    "- Validitates its formatting and composition (i.e. does not contain any incorrect characters, it should be able to parse DNA, RNA and protein sequences).  If it encounters an invalid entry, print a warning.\n",
    "- Store and return the description and sequence in a tuple (eg. {description,sequence})\n",
    "- The parser should be capable of processing multiple multiple sequences in a single file.  In some scenarios, a file could have thousands of sequences and may be impractical to read them all into memory.  Here are some approaches to handling this type of scenario in Python: ['Yield and Generators Explained](http://www.jeffknupp.com/blog/2013/04/07/improve-your-python-yield-and-generators-explained/) or [Python Yields are Fun!](http://pydanny.com/python-yields-are-fun.html)\n",
    "- We will be reusing and expanding this code base throughout the course.  You may want to consider splitting out the functionality into classes or multiple functions.\n",
    "\n",
    "Use you parser to read in the following files ([Multiple DNA sequences](http://uchicago.bio/sessions/session1/multiple_DNA.fasta.txt), [Mutliple protein sequencs](http://uchicago.bio/sessions/session1/multiple_protein.fasta.txt)) and print out the description and sequence in the following format: \n",
    "```\n",
    "- description | sequence\n",
    "- description | sequence  \n",
    "...\n",
    "```"
   ]
  },
  {
   "cell_type": "code",
   "execution_count": null,
   "metadata": {
    "collapsed": false
   },
   "outputs": [],
   "source": []
  },
  {
   "cell_type": "markdown",
   "metadata": {},
   "source": [
    "## 3."
   ]
  },
  {
   "cell_type": "markdown",
   "metadata": {},
   "source": [
    "Plot the distribution of the A,G,C,T bases for the following sequence using matplotlib.  Please show the plot inline in the notebook (e.g. %matplotlib inline).\n",
    "\n",
    "\n",
    "```\n",
    ">gi|XXXXXXXXX\n",
    "GTACGACGGAGTGTTATAAGATGGGAAATCGGATACCAGATGAAATTGTGGATCAGGTGCAAAAGTCGGC\n",
    "AGATATCGTTGAAGTCATAGGTGATTATGTTCAATTAAAGAAGCAAGGCCGAAACTACTTTGGACTCTGT\n",
    "CCTTTTCATGGAGAAAGCACACCTTCGTTTTCCGTATCGCCCGACAAACAGATTTTTCATTGCTTTGGCT\n",
    "GCGGAGCGGGCGGCAATGTTTTCTCTTTTTTAAGGCAGATGGAAGGCTATTCTTTTGCCGAGTCGGTTTC\n",
    "TCACCTTGCTGACAAATACCAAATTGATTTTCCAGATGATATAACAGTCCATTCCGGAGCCCGGCCAGAG\n",
    "TCTTCTGGAGAACAAAAAATGGCTGAGGCACATGAGCTCCTGAAGAAATTTTACCATCATTTGTTAATAA\n",
    "ATACAAAAGAAGGTCAAGAGGCACTGGATTATCTGCTTTCTAGGGGCTTTACGAAAGAGCTGATTAATGA\n",
    "ATTTCAGATTGGCTATGCTCTTGATTCTTGGGACTTTATCACGAAATTCCTTGTAAAGAGGGGATTTAGT\n",
    "GAGGCGCAAATGGAAAAAGCGGGTCTCCTGATCAGACGCGAAGACGGAAGCGGATATTTCGACCGCTTCA\n",
    "GAAACCGTGTCATGTTTCCGATCCATGATCATCACGGGGCTGTTGTTGCTTTCTCAGGCAGGGCTCTTGG\n",
    "```"
   ]
  },
  {
   "cell_type": "code",
   "execution_count": 8,
   "metadata": {
    "collapsed": false
   },
   "outputs": [],
   "source": []
  },
  {
   "cell_type": "markdown",
   "metadata": {},
   "source": [
    "## 4."
   ]
  },
  {
   "cell_type": "markdown",
   "metadata": {},
   "source": [
    "Genes can be characterized by comparing their C-G content to the background C-G content of the entire genome.  C-G content is typically expressed as a percentage value using the formula:\n",
    "\n",
    "$ \\frac{(G+C)}{(A+T+G+C)} * 100 $\n",
    "\n",
    "Calculcate the C-G content for each of the following sequences: [Multiple DNA sequences](http://uchicago.bio/sessions/session1/multiple_DNA.fasta.txt). Print out the description and sequence in the following format: \n",
    "```\n",
    "- description | C-G content \n",
    "- description | C-G content \n",
    "...\n",
    "```"
   ]
  },
  {
   "cell_type": "code",
   "execution_count": null,
   "metadata": {
    "collapsed": true
   },
   "outputs": [],
   "source": []
  },
  {
   "cell_type": "markdown",
   "metadata": {},
   "source": [
    "What are some properties and/or behaviors of genes that can be inferred from C-G content?"
   ]
  },
  {
   "cell_type": "code",
   "execution_count": null,
   "metadata": {
    "collapsed": true
   },
   "outputs": [],
   "source": []
  },
  {
   "cell_type": "markdown",
   "metadata": {},
   "source": [
    "## 5."
   ]
  },
  {
   "cell_type": "markdown",
   "metadata": {},
   "source": [
    "Create a class that emulates the central dogman of moleular biology: transcription from DNA to RNA and translation from RNA to protein.  The class should take a sequence and description as input and conduct the transcription and translation.  \n",
    "\n",
    "Using your code from above, write a script that reads in a file in FASTA format, passes the description and sequence to your class, and determines the resulting protein sequence.  Print out **all the open reading frames** that are potential coding sequences (i.e. have a start/stop codon with amino acids in between).\n",
    "\n",
    "The output should foollow the following format:\n",
    "```\n",
    "* frame_position [-3,-2,-1,1,2,3] | starting_base_number | ending_base_number | protein_sequence_length | protein sequence\n",
    "```\n",
    "The output should look similar to this:\n",
    "```\n",
    "* 1 | 1  | 45 | 7 | ABCDEFG\n",
    "* 2 | 34 | 5 | 3 | NCD\n",
    "```\n",
    "\n",
    "Use the following [sequence file](http://uchicago.bio/sessions/session1/dogma.fasta.txt) as input:\n",
    "\n",
    "```\n",
    ">gi|XXXXXXXXX\n",
    "GTACGACGGAGTGTTATAAGATGGGAAATCGGATACCAGATGAAATTGTGGATCAGGTGCAAAAGTCGGC\n",
    "AGATATCGTTGAAGTCATAGGTGATTATGTTCAATTAAAGAAGCAAGGCCGAAACTACTTTGGACTCTGT\n",
    "CCTTTTCATGGAGAAAGCACACCTTCGTTTTCCGTATCGCCCGACAAACAGATTTTTCATTGCTTTGGCT\n",
    "GCGGAGCGGGCGGCAATGTTTTCTCTTTTTTAAGGCAGATGGAAGGCTATTCTTTTGCCGAGTCGGTTTC\n",
    "TCACCTTGCTGACAAATACCAAATTGATTTTCCAGATGATATAACAGTCCATTCCGGAGCCCGGCCAGAG\n",
    "TCTTCTGGAGAACAAAAAATGGCTGAGGCACATGAGCTCCTGAAGAAATTTTACCATCATTTGTTAATAA\n",
    "ATACAAAAGAAGGTCAAGAGGCACTGGATTATCTGCTTTCTAGGGGCTTTACGAAAGAGCTGATTAATGA\n",
    "ATTTCAGATTGGCTATGCTCTTGATTCTTGGGACTTTATCACGAAATTCCTTGTAAAGAGGGGATTTAGT\n",
    "GAGGCGCAAATGGAAAAAGCGGGTCTCCTGATCAGACGCGAAGACGGAAGCGGATATTTCGACCGCTTCA\n",
    "GAAACCGTGTCATGTTTCCGATCCATGATCATCACGGGGCTGTTGTTGCTTTCTCAGGCAGGGCTCTTGG\n",
    "```\n"
   ]
  },
  {
   "cell_type": "code",
   "execution_count": 2,
   "metadata": {
    "collapsed": false
   },
   "outputs": [],
   "source": []
  },
  {
   "cell_type": "markdown",
   "metadata": {},
   "source": [
    "# 6."
   ]
  },
  {
   "cell_type": "markdown",
   "metadata": {},
   "source": [
    "Based on the standard genetic code codon table, which of the three codon positions (first, second or third) is most sensitive to a mutation?  That is, at which position in a codon would a nucleotide substitution be most likely to change the amino acid.  How much more likely than the least sensitive position?  Please explain your answer and show any relevant work.  \n",
    "\n",
    "Hint: The correct answer will require computation, not intuition."
   ]
  },
  {
   "cell_type": "code",
   "execution_count": 1,
   "metadata": {
    "collapsed": false
   },
   "outputs": [],
   "source": []
  },
  {
   "cell_type": "markdown",
   "metadata": {},
   "source": [
    "# 7."
   ]
  },
  {
   "cell_type": "markdown",
   "metadata": {},
   "source": [
    "Find an article or recent news item related to bioinformatics and add a link to the `#general` channel in Slack.  Post a link to the article and provide a short (less than 5 sentence summary) on the article."
   ]
  },
  {
   "cell_type": "code",
   "execution_count": null,
   "metadata": {
    "collapsed": false
   },
   "outputs": [],
   "source": []
  }
 ],
 "metadata": {
  "anaconda-cloud": {},
  "kernelspec": {
   "display_name": "Python 2",
   "language": "python",
   "name": "python2"
  },
  "language_info": {
   "codemirror_mode": {
    "name": "ipython",
    "version": 2
   },
   "file_extension": ".py",
   "mimetype": "text/x-python",
   "name": "python",
   "nbconvert_exporter": "python",
   "pygments_lexer": "ipython2",
   "version": "2.7.14"
  }
 },
 "nbformat": 4,
 "nbformat_minor": 2
}
