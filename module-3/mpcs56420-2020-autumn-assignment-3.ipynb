{
 "cells": [
  {
   "cell_type": "markdown",
   "metadata": {},
   "source": [
    "# 1. Global sequence alignments"
   ]
  },
  {
   "cell_type": "markdown",
   "metadata": {},
   "source": [
    "You are given two sequences `AGATTAC` and `AGTTAC`. Assume a match score of 1, a gap penalty of 3 and a substitution score of -1. Using these scores, obtain the global alignment of these two sequences **manually** in the following two steps:\n",
    "\n",
    "1. Fill in the entries of the F matrix by applying the recurrence relationship for global alignment to these sequences. Please show the back pointers to the matrix entry/entries that give you the maximal score for any entry.\n",
    "\n",
    "2. Apply the trace back procedure to obtain an optimal alignment. If there are multiple possible alignments, please show all of them along with their traceback paths.\n",
    "\n",
    "Draw out the alignments on paper and include the image in your assignment repository. Please type the alignments immediately following."
   ]
  },
  {
   "cell_type": "code",
   "execution_count": null,
   "metadata": {},
   "outputs": [],
   "source": []
  },
  {
   "cell_type": "markdown",
   "metadata": {},
   "source": [
    "# 2. Local sequence alignments"
   ]
  },
  {
   "cell_type": "code",
   "execution_count": null,
   "metadata": {},
   "outputs": [],
   "source": []
  },
  {
   "cell_type": "markdown",
   "metadata": {},
   "source": [
    "Perform a manual local alignment for the sequences, `GAAGAGTATA` and `AAGCTATACC`.   Assume a match score of 1, a gap penalty of 3 and a substitution score of -1.  Complete the following steps:\n",
    "\n",
    "1. Fill in the entries of the F matrix using the recurrence relationship for the local alignment of these sequences. Show back pointers to matrix entry/entries that give you the maximal score.\n",
    "\n",
    "2. Apply the trace back procedure to generate a local alignment.\n",
    "\n",
    "Draw out the alignments on paper and include the image in your assignment repository. Please type the alignments immediately following."
   ]
  },
  {
   "cell_type": "code",
   "execution_count": null,
   "metadata": {},
   "outputs": [],
   "source": []
  },
  {
   "cell_type": "markdown",
   "metadata": {},
   "source": [
    "# 3. Dynamic Programming Implementation"
   ]
  },
  {
   "cell_type": "markdown",
   "metadata": {},
   "source": [
    "Implement dynamic programming algorithms for global (Needleman-Wunsch) and local (Smith-Waterman) alignment of protein sequences.  The implementation should be a stand alone, command-line application. \n",
    "\n",
    "The application should allow the user to read in the sequences from a `fasta` formatted file, select the type of alignment (local or global).\n",
    "\n",
    "The application should take parameter from the the command line to set the sequence files, the type of alignment, the scoring matrix and a linear gap penalty. Include the ability to select either the blosum62 or pam250 scoring matrices.\n",
    "\n",
    "An example of running the program is shown below:\n",
    " \n",
    "```\n",
    "align.py --seq1 sequence_file.fa --seq2 different_sequence_file.fa --type global --matrix blosum62 --gap -2\n",
    "```\n",
    "\n",
    "\n",
    "\n",
    "The program should report the alignment score,  the sequence identity and a visual representation of the alignment.\n",
    "\n",
    "\n",
    "Please comment your code and provide the command and files to properly test it."
   ]
  },
  {
   "cell_type": "markdown",
   "metadata": {},
   "source": [
    "# 4.  Statisics of Pairwise Alignments"
   ]
  },
  {
   "cell_type": "markdown",
   "metadata": {},
   "source": [
    "Perform sequence alignment of the following sequences:\n",
    "\n",
    "```\n",
    "PAWHEAE\n",
    "HEAGAWGHEE\n",
    "```\n",
    "Assume a match score of 1, a gap penalty of 3 and a substitution score of -1.  What is the alignment score?"
   ]
  },
  {
   "cell_type": "code",
   "execution_count": null,
   "metadata": {
    "collapsed": true
   },
   "outputs": [],
   "source": []
  },
  {
   "cell_type": "markdown",
   "metadata": {},
   "source": [
    "\n",
    "Next, generate 100 random sequences with the same amino acid distribution as `PAWHEAE` and perform an alignment of each sequence to `HEAGAWGHEE`.   Calculate the Z-score.  "
   ]
  },
  {
   "cell_type": "code",
   "execution_count": null,
   "metadata": {},
   "outputs": [],
   "source": []
  },
  {
   "cell_type": "markdown",
   "metadata": {
    "collapsed": true
   },
   "source": [
    "\n",
    "What does the Z-score say about the significance of the alignment?"
   ]
  },
  {
   "cell_type": "code",
   "execution_count": null,
   "metadata": {},
   "outputs": [],
   "source": []
  },
  {
   "cell_type": "markdown",
   "metadata": {},
   "source": [
    "Are the scores normally distributed?  *You can use SciPy or any other modules to help.*"
   ]
  },
  {
   "cell_type": "code",
   "execution_count": null,
   "metadata": {},
   "outputs": [],
   "source": []
  },
  {
   "cell_type": "markdown",
   "metadata": {},
   "source": [
    "Repeat the process above, but now generate 1,000 and 10,000 random sequences and calculate the Z-score for each set.  Does the change in number of sequences alter your evaluation of the evolutionary relatedness of the sequences?"
   ]
  },
  {
   "cell_type": "code",
   "execution_count": null,
   "metadata": {},
   "outputs": [],
   "source": []
  },
  {
   "cell_type": "markdown",
   "metadata": {},
   "source": [
    "Considering the wall time for each run, comment of the feasibility for computing the Z-score significance while searching a large database of millions of sequences."
   ]
  },
  {
   "cell_type": "code",
   "execution_count": null,
   "metadata": {},
   "outputs": [],
   "source": []
  },
  {
   "cell_type": "markdown",
   "metadata": {},
   "source": [
    "# 5. Deploying Your ORF Finder as a Web App"
   ]
  },
  {
   "cell_type": "markdown",
   "metadata": {},
   "source": [
    "Now that you have written a program to help identify ORFs, let's turn it into a web application to make it accessible to researchers around the world. For comparision (inspiration), refer to the ORFFinder from NCBI (https://www.ncbi.nlm.nih.gov/orffinder/).\n",
    "\n",
    "Using [Google App Engine](https://cloud.google.com/appengine/) you will create a barebones applications that will allow a user to input a DNA sequence and it will display all the potential ORFs.  \n",
    "\n",
    "Go through the following tutorials to get a web application up and running.\n",
    "* [Quickstart for Python 3 in the App Engine Standard Environment](https://cloud.google.com/appengine/docs/standard/python3/quickstart)\n",
    "* [Building a Python 3.7 App on App Engine](https://cloud.google.com/appengine/docs/standard/python3/building-app)\n",
    " - Only go through \"Deploying Your Web Service\"\n",
    "\n",
    "Once you have the sample up and running, check out this [example](https://github.com/uchicago-bio/mpcs56420-2020-autumn/tree/master/module-3/app-engine-template) to see how to take text input from a form and display the results. Integrate your ORF finding code and display the results.\n",
    "\n",
    "Commit your code to your assignment repository and deploy your application. Type the url below."
   ]
  },
  {
   "cell_type": "code",
   "execution_count": null,
   "metadata": {},
   "outputs": [],
   "source": []
  },
  {
   "cell_type": "markdown",
   "metadata": {},
   "source": [
    "# 6.  Recent Approaches in Sequence Alignemnt"
   ]
  },
  {
   "cell_type": "markdown",
   "metadata": {},
   "source": [
    "Search PubMed and identify a paper on a different sequence alignment method than was discussed in class.  *Do not use BLAST or FASTA.*  \n",
    "\n",
    "Briefly (~1 paragraph) discuss what is different in these approaches and how they improve over the Needleman-Wunch and/or Smith-Waterman algorithms.  You answer does not have to be uneccesarily technical, but please provide a concrete example of the improvement it makes (eg. it runs faster, works on GPU, etc.)\n",
    "\n",
    "Post your paragraph and a link to the paper in #module-3 Slack channel."
   ]
  },
  {
   "cell_type": "markdown",
   "metadata": {},
   "source": [
    "# 7. Lab Noteboook"
   ]
  },
  {
   "cell_type": "markdown",
   "metadata": {},
   "source": [
    "Continue the investigation of your gene. With a greater understanding of sequence alignments, conduct NCBI Blast searches of your gene. Look at the sequence identities of some of the \"top\" hits. What is the best hit from a different organism? What is the best hit from an \"unrelated\" gene? Are"
   ]
  },
  {
   "cell_type": "code",
   "execution_count": null,
   "metadata": {},
   "outputs": [],
   "source": []
  }
 ],
 "metadata": {
  "anaconda-cloud": {},
  "kernelspec": {
   "display_name": "Python 3",
   "language": "python",
   "name": "python3"
  },
  "language_info": {
   "codemirror_mode": {
    "name": "ipython",
    "version": 3
   },
   "file_extension": ".py",
   "mimetype": "text/x-python",
   "name": "python",
   "nbconvert_exporter": "python",
   "pygments_lexer": "ipython3",
   "version": "3.7.5"
  }
 },
 "nbformat": 4,
 "nbformat_minor": 2
}
