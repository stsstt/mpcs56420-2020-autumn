{
 "cells": [
  {
   "cell_type": "markdown",
   "metadata": {},
   "source": [
    "# 1."
   ]
  },
  {
   "cell_type": "markdown",
   "metadata": {},
   "source": [
    "A study was published to better understand how specific genes may play a role in the polarizing herb cilantro.  Investigate this further by answering the following questions:\n",
    "\n",
    "* Find the study by Nicholas Eriksson et.al.  What journal is in?  Is this journal in pubmed?  How many first author publications does the author have?\n",
    "* From the article, what genes are implicanted in the taste sensitivity?  Provide accession numbers and a short description of each.\n",
    "* Using *HomoloGene* from NCBI, identify other species that have the conserved gene.\n"
   ]
  },
  {
   "cell_type": "code",
   "execution_count": null,
   "metadata": {},
   "outputs": [],
   "source": []
  },
  {
   "cell_type": "markdown",
   "metadata": {},
   "source": [
    "# 2."
   ]
  },
  {
   "cell_type": "markdown",
   "metadata": {},
   "source": [
    "Find the nucleotide record with the accession number NM_005368.2. \n",
    "* How is this sequence described in the definition field?\n",
    "* How many exons are annotated in the Features table.\n",
    "* What is the numerical location of the poly A signal (polyA_site)?\n",
    "* Look at the revision history. On what date did the sequence last change?\n",
    "* Compare the before and after for the sequence change. How many nucleotides were added?\n",
    "* Are there any diseases associated with gene?"
   ]
  },
  {
   "cell_type": "code",
   "execution_count": null,
   "metadata": {},
   "outputs": [],
   "source": []
  },
  {
   "cell_type": "markdown",
   "metadata": {},
   "source": [
    "# 3."
   ]
  },
  {
   "cell_type": "markdown",
   "metadata": {},
   "source": [
    "Ebola virus (*Zaire ebolavirus*) is the most dangerous known viruses within the genus *Ebolavirus*. The virus is transmitted to people from wild animals and spreads in the human population through human-to-human transmission.  Four of the five known ebolaviruses cause a severe and often fatal hemorrhagic fever in humans and other mammals, known as Ebola virus disease.\n",
    "* Find a recent publication discussing Ebola virus on PubMed.  What is its PMID (PubMed id)?\n",
    "* How may species are in the genus ebolaviruses?\n",
    "* How may genes does _Zaire ebolavirus_ virus have? List and provide a short description of each."
   ]
  },
  {
   "cell_type": "code",
   "execution_count": null,
   "metadata": {},
   "outputs": [],
   "source": []
  },
  {
   "cell_type": "markdown",
   "metadata": {},
   "source": [
    "# 4."
   ]
  },
  {
   "cell_type": "markdown",
   "metadata": {},
   "source": [
    "Not to be outdone by an *Ebolavirus*, a novel *Coronavirus* has now crippled the world and forced Remote Learning on a unwilling generation of students. Please answer the following questions.\n",
    "\n",
    "* What is the accession number of the severe acute respiratory syndrome coronavirus 2 isolate Wuhan-Hu-1, complete genome?\n",
    "* What version is the currrent genome?\n",
    "* How many proteins are encoded by the genome? List them all.\n",
    "* What is the name of the human protein that is thought to interact with the *spike* protein? What is its gene id?\n",
    "* There was a recent paper describing the interaction between the spike and human protein that provides a cryo-em structure of the complex. Provide the link to the paper and to the Protein Databank (PDB) entry of the structure. The PDB entry is a 4 character code (eg 1abc)."
   ]
  },
  {
   "cell_type": "code",
   "execution_count": null,
   "metadata": {},
   "outputs": [],
   "source": []
  },
  {
   "cell_type": "markdown",
   "metadata": {},
   "source": [
    "# 5."
   ]
  },
  {
   "cell_type": "markdown",
   "metadata": {},
   "source": [
    "Mark Boguski's paper on the Jurassic Park was noticed by Michael Crichton and he was hired as a consultant for the sequel, \"The Lost World\".  He supplied a new sequence to be referenced in the book.  Download the [sequence from here](http://uchicago.bio/sessions/session2/dino-dna-lost-world.fa.txt) and determine if this sequence was a better choice using nucleotide-nucleotide [BLAST](https://blast.ncbi.nlm.nih.gov/Blast.cgi?PROGRAM=blastn&PAGE_TYPE=BlastSearch&LINK_LOC=blasthome). Cut and paste and the sequence into the \"Enter Query Sequence\" box and examine the results.\n",
    "\n",
    "Can you find his original paper linked on PubMed?  Why or why not?\n",
    "\n",
    "Mark also encoded a secret message in the translated version of seqeunce.  Using translating BLAST (blastx), you can read the message \"MARK WAS HERE NIH\" in the sequence of aligned homologs.  You can no longer do this because of newly added sequences."
   ]
  },
  {
   "cell_type": "code",
   "execution_count": null,
   "metadata": {},
   "outputs": [],
   "source": []
  },
  {
   "cell_type": "markdown",
   "metadata": {},
   "source": [
    "# 6."
   ]
  },
  {
   "cell_type": "markdown",
   "metadata": {},
   "source": [
    "There have been many interesting efforts on archiving data using DNA.\n",
    "\n",
    "* [DNA could store all of the world's data in one room](https://www.sciencemag.org/news/2017/03/dna-could-store-all-worlds-data-one-room)\n",
    "* [Synthetic double-helix faithfully stores Shakespeare's sonnets](http://www.nature.com/news/synthetic-double-helix-faithfully-stores-shakespeare-s-sonnets-1.12279).  \n",
    "* [Storing data in DNA is a lot easier than getting it back out](https://www.technologyreview.com/2018/01/26/145993/storing-data-in-dna-is-a-lot-easier-than-getting-it-back-out/)\n",
    "* [The Rise of DNA Data Storage](https://www.wired.com/story/the-rise-of-dna-data-storage/)\n",
    "\n",
    "Despite the seemingly straightforward task, there is little agreement on the best approach. Write a \"DNA-to-text\" converter and __explain your approach and rationale__. What specific concerns is your approach addressing?\n",
    "\n",
    "Test the coding and encoding of your sequences using the following text:\n",
    "*\"When in the Course of human events, it becomes necessary for one people to dissolve the political bands which have connected them with another, and to assume among the powers of the earth, the separate and equal station to which the Laws of Nature and of Nature's God entitle them, a decent respect to the opinions of mankind requires that they should declare the causes which impel them to the separation.\"*"
   ]
  },
  {
   "cell_type": "code",
   "execution_count": null,
   "metadata": {},
   "outputs": [],
   "source": []
  },
  {
   "cell_type": "markdown",
   "metadata": {},
   "source": [
    "# 7."
   ]
  },
  {
   "cell_type": "markdown",
   "metadata": {},
   "source": [
    "The Entrez Programming Utilities (E-utilities) are a set of nine server-side programs that provide a stable interface into the Entrez query and database system at the National Center for Biotechnology Information (NCBI). The E-utilities use a fixed URL syntax that translates a standard set of input parameters into the values necessary for various NCBI software components to search for and retrieve the requested data. Combining E-utilities components to form customized data pipelines within these applications is a powerful approach to data manipulation.\n",
    "\n",
    "NCBI resources for Eutils:\n",
    "* [A General Introduction to the E-utilities](http://www.ncbi.nlm.nih.gov/books/NBK25497/)\n",
    "* [E-utilities Quick Start](http://www.ncbi.nlm.nih.gov/sites/books/NBK25500/)\n",
    "* [Entrez Programming Utilities Help](http://www.ncbi.nlm.nih.gov/books/NBK25501/)\n",
    "\n",
    "Use the E-utilities API to update your Central Dogma program from Assignment 1.  Your program should be able to take an accession number as input retrieve the sequence from NCBI before identifying the open reading frames.  The program should save the downloaded sequence into a file in the format `accession_number.fa`.\n",
    "\n",
    "Here is an example of possible output running the program:\n",
    "\n",
    "```\n",
    "> Enter an NCBI accession number: NG_005905\n",
    "\n",
    "The sequence has been save to file NG_005905.fa.\n",
    "\n",
    "Open Reading Frames:\n",
    " * ...\n",
    " * ...\n",
    " * ...\n",
    " \n",
    " ```\n",
    "\n",
    "The script will be tested using NCBI record NM_005368.2.\n",
    "\n",
    "_I would recommend factoring your NCBI retrieval code into a module that can be imported into a juptyr notebook or run from the command line.  You will be using this code later in the course for a commandline application._"
   ]
  },
  {
   "cell_type": "code",
   "execution_count": null,
   "metadata": {},
   "outputs": [],
   "source": []
  },
  {
   "cell_type": "markdown",
   "metadata": {},
   "source": [
    "# 8."
   ]
  },
  {
   "cell_type": "markdown",
   "metadata": {},
   "source": [
    "Now that you have written a program to help identify ORFs, let's turn it into a web application to make it accessible to researchers around the world.\n",
    "\n",
    "Using [Google App Engine](https://cloud.google.com/appengine/) you will create a barebones applications that will allow a user to input a DNA sequence and it will display all the potential ORFs.  \n",
    "\n",
    "Go through the following tutorials to get a web application up and running.\n",
    "* [Quickstart for Python 3 in the App Engine Standard Environment](https://cloud.google.com/appengine/docs/standard/python3/quickstart)\n",
    "* [Building a Python 3.7 App on App Engine](https://cloud.google.com/appengine/docs/standard/python3/building-app)\n",
    " - Only go through \"Deploying Your Web Service\"\n",
    "\n",
    "Once you have the sample up and running, check out this [example](https://github.com/uchicago-bio/mpcs56420-2020-spring/tree/master/assignment-2/app-engine-template) to see how to take text input from a form and display the results. Integrate your ORF finding code and display the results.\n",
    "\n",
    "Commit your code to your assignment repository and deploy your application. Type the url below."
   ]
  },
  {
   "cell_type": "markdown",
   "metadata": {},
   "source": [
    "\n",
    "_You will recieve a link from Google with an education service credit for Google Cloud Platform. Please note that you do not (and should not) enable billing for this application. All the work you do for this course will be within the quota, with a majority of it being done locally in the development enviroment._"
   ]
  },
  {
   "cell_type": "code",
   "execution_count": null,
   "metadata": {},
   "outputs": [],
   "source": []
  },
  {
   "cell_type": "markdown",
   "metadata": {},
   "source": [
    "# 9. Laboratory Notebook"
   ]
  },
  {
   "cell_type": "markdown",
   "metadata": {},
   "source": [
    "Begin collecting information on a gene that you plan to investigate as part of your gene study. A good place to start is visiting the Online Mendelian Inheritance in Man (OMIM) database, which lists genes related to a diseases. From the main search bar on the homepage, type the name of the disease you are interested and then navigate to identify the sequence  of the gene.  You may find yourself redirected to many different databases but remember once you have the gene name, you can get the information you need from GenBank.  \n",
    "\n",
    "You do not need to study a gene related to a human disease, but the gene you study must have sufficient information for you to conducat a thorough investigation and analysis of it. If you are uncertain if you gene will have enough information, you can consult with the instructor. One way to ensure this is to choose a gene that is in the RefSeq database. It will also be useful (but not required) to have a protein structure of your gene. \n",
    "\n",
    "This week you should collect information related to the genes sequence as avaiable in NCBI databases. This includes, but is not limited to, accession, gi and version numbers, citationss, sequence, and functional information. Collect data and links so that you may easily navigate throughh your sources.\n",
    "\n",
    "Use a Google documents as your notebook and share it with the instructors (abinkowski@uchicago.edu, caseys@uchicago.edu). You will uses this throughout the quarter and we will rerview and make comments directly on the document.\n",
    "\n",
    "As an example, see the information that is collected for this week on BRCA1 (https://docs.google.com/document/d/1mI8pTtOcPEvjbw1XWkewPJCAssBNR0VoizGr4JLM1ZM/edit?usp=sharing).\n",
    "\n",
    "\n",
    "Please place the URL of the document below:"
   ]
  },
  {
   "cell_type": "code",
   "execution_count": null,
   "metadata": {},
   "outputs": [],
   "source": []
  },
  {
   "cell_type": "markdown",
   "metadata": {},
   "source": [
    "# 10."
   ]
  },
  {
   "cell_type": "markdown",
   "metadata": {},
   "source": [
    "Find a news or scientific journal article related to a topic we are discussing this week. Post it in the #session-2 channel."
   ]
  },
  {
   "cell_type": "code",
   "execution_count": null,
   "metadata": {},
   "outputs": [],
   "source": []
  }
 ],
 "metadata": {
  "anaconda-cloud": {},
  "kernelspec": {
   "display_name": "Python 3.7.5 64-bit ('base': conda)",
   "language": "python",
   "name": "python37564bitbaseconda9e48b5d050f7450391b6d4b513187c58"
  },
  "language_info": {
   "codemirror_mode": {
    "name": "ipython",
    "version": 3
   },
   "file_extension": ".py",
   "mimetype": "text/x-python",
   "name": "python",
   "nbconvert_exporter": "python",
   "pygments_lexer": "ipython3",
   "version": "3.7.5"
  }
 },
 "nbformat": 4,
 "nbformat_minor": 2
}
