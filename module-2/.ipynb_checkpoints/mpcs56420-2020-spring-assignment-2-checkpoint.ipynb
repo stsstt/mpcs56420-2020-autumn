{
 "cells": [
  {
   "cell_type": "markdown",
   "metadata": {},
   "source": [
    "# 1."
   ]
  },
  {
   "cell_type": "markdown",
   "metadata": {},
   "source": [
    "A study was published to better understand how specific genes may play a role in the polarizing herb cilantro.  Investigate this further by answering the following questions:\n",
    "\n",
    "* Find the study by Nicholas Eriksson et.al.  What journal is in?  Is this journal in pubmed?  How many first author publications does the author have?\n",
    "* From the article, what genes are implicanted in the taste sensitivity?  Provide accession numbers and a short description of each.\n",
    "* Using *HomoloGene* from NCBI, identify other species that have the conserved gene.\n"
   ]
  },
  {
   "cell_type": "code",
   "execution_count": null,
   "metadata": {},
   "outputs": [],
   "source": []
  },
  {
   "cell_type": "markdown",
   "metadata": {},
   "source": [
    "# 2."
   ]
  },
  {
   "cell_type": "markdown",
   "metadata": {},
   "source": [
    "Ebola virus (_Zaire ebolavirus_) is the most dangerous known viruses within the genus Ebolavirus. The virus is transmitted to people from wild animals and spreads in the human population through human-to-human transmission.  Four of the five known ebolaviruses cause a severe and often fatal hemorrhagic fever in humans and other mammals, known as Ebola virus disease.\n",
    "* Find a recent publication discussing Ebola virus on PubMed.  What is its PMID (PubMed id)?\n",
    "* How may species are in the genus ebolaviruses?\n",
    "* How may genes does _Zaire ebolavirus_ virus have? List and provide a short description of each."
   ]
  },
  {
   "cell_type": "code",
   "execution_count": null,
   "metadata": {},
   "outputs": [],
   "source": []
  },
  {
   "cell_type": "markdown",
   "metadata": {},
   "source": [
    "# 3."
   ]
  },
  {
   "cell_type": "markdown",
   "metadata": {},
   "source": [
    "Find the nucleotide record with the accession number NM_005368.2. \n",
    "* How is this sequence described in the definition field?\n",
    "* How many exons are annotated in the Features table.\n",
    "* What is the numerical location of the poly A signal (polyA_site)?\n",
    "* Look at the revision history. On what date did the sequence last change?\n",
    "* Compare the before and after for the sequence change. How many nucleotides were added?\n",
    "* Are there any diseases associated with gene?"
   ]
  },
  {
   "cell_type": "code",
   "execution_count": null,
   "metadata": {},
   "outputs": [],
   "source": []
  },
  {
   "cell_type": "markdown",
   "metadata": {},
   "source": [
    "# 4."
   ]
  },
  {
   "cell_type": "markdown",
   "metadata": {},
   "source": [
    "You may have heard of a novel coronavirus crippling the world?\n",
    "\n",
    "1. What is the accession number of the Severe acute respiratory syndrome coronavirus 2 isolate Wuhan-Hu-1, complete genome?\n",
    "2. What version is the currrent genome?\n",
    "3. How many proteins are encoded by the genome? List them all.\n",
    "4. What is the name of the human protein that is thought to interact with the *spike* protein? What is its gene id?\n",
    "5. There was a recent paper describing the interaction between the spike and human protein that provides a cryo-em structure of the complex. Provide the link to the paper and to the Protein Databank (PDB) entry of the structure. The PDB entry is a 4 character code (eg 1abc)."
   ]
  },
  {
   "cell_type": "code",
   "execution_count": null,
   "metadata": {},
   "outputs": [],
   "source": []
  },
  {
   "cell_type": "markdown",
   "metadata": {},
   "source": [
    "# 5."
   ]
  },
  {
   "cell_type": "markdown",
   "metadata": {},
   "source": [
    "Mark Boguski's paper on the Jurassic Park was noticed by Michael Crichton and he was hired as a consultant for the sequel, \"The Lost World\".  He supplied a new sequence to be referenced in the book.  Download the [sequence from here](http://uchicago.bio/sessions/session2/dino-dna-lost-world.fa.txt) and determine if this sequence was a better choice using nucleotide-nucleotide BLAST.  Can you find his original paper linked on PubMed?  Why or why not?\n",
    "\n",
    "Mark also encoded a secret message in the translated version of seqeunce.  Using translating BLAST (blastx), you can read the message \"MARK WAS HERE NIH\" in the sequence of aligned homologs.  You can no longer do this because of newly added sequences.\n"
   ]
  },
  {
   "cell_type": "code",
   "execution_count": null,
   "metadata": {},
   "outputs": [],
   "source": []
  },
  {
   "cell_type": "markdown",
   "metadata": {},
   "source": [
    "# 6."
   ]
  },
  {
   "cell_type": "markdown",
   "metadata": {},
   "source": [
    "There have been many interesting efforts on [archiving text in DNA](http://www.nature.com/news/synthetic-double-helix-faithfully-stores-shakespeare-s-sonnets-1.12279).  Despite the seemingly straightforward task, there is little agreement on the best approach.  Write a \"DNA-to-text\" converter and explain your approach and rationale.  What specific concerns is your approach addressing?\n",
    "\n",
    "Test the coding and encoding of your sequences using the following text:\n",
    "*\"When in the Course of human events, it becomes necessary for one people to dissolve the political bands which have connected them with another, and to assume among the powers of the earth, the separate and equal station to which the Laws of Nature and of Nature's God entitle them, a decent respect to the opinions of mankind requires that they should declare the causes which impel them to the separation.\"*"
   ]
  },
  {
   "cell_type": "code",
   "execution_count": null,
   "metadata": {},
   "outputs": [],
   "source": []
  },
  {
   "cell_type": "markdown",
   "metadata": {},
   "source": [
    "# 7."
   ]
  },
  {
   "cell_type": "markdown",
   "metadata": {},
   "source": [
    "The Entrez Programming Utilities (E-utilities) are a set of nine server-side programs that provide a stable interface into the Entrez query and database system at the National Center for Biotechnology Information (NCBI). The E-utilities use a fixed URL syntax that translates a standard set of input parameters into the values necessary for various NCBI software components to search for and retrieve the requested data. Combining E-utilities components to form customized data pipelines within these applications is a powerful approach to data manipulation.\n",
    "\n",
    "NCBI resources for Eutils:\n",
    "* [A General Introduction to the E-utilities](http://www.ncbi.nlm.nih.gov/books/NBK25497/)\n",
    "* [E-utilities Quick Start](http://www.ncbi.nlm.nih.gov/sites/books/NBK25500/)\n",
    "* [Entrez Programming Utilities Help](http://www.ncbi.nlm.nih.gov/books/NBK25501/)\n",
    "\n",
    "Use the E-utilities API to update your script from Assignment 1.  Your script should be able to take an accession number as input retrieve the sequence from NCBI before identifying the open reading frames.  Your script should also be able to save the downloaded sequence into a file in the format `accession_number.fa`.\n",
    "\n",
    "The script will be tested using NCBI record NM_005368.2.\n",
    "\n",
    "_I would recommend factoring your parsing code into a module that can be imported into a juptyr notebook or run from the command line.  You will be using this code later on as a commandline application._"
   ]
  },
  {
   "cell_type": "code",
   "execution_count": null,
   "metadata": {},
   "outputs": [],
   "source": []
  },
  {
   "cell_type": "markdown",
   "metadata": {},
   "source": [
    "# 8."
   ]
  },
  {
   "cell_type": "markdown",
   "metadata": {},
   "source": [
    "Using the Online Mendelian Inheritance in Man (OMIM) database, identify a gene related to a disease or condition that you find interesting.  From the main search bar on the homepage, type the name of the disease you are interested and then navigate to identify the sequence  of the gene.  You may find yourself redirected to many different databases but remember once you have the gene name, you can get the information you need from GenBank.  \n",
    "\n",
    "Please provide the *RefSeq* accession number, the sequence of the the gene, and a short summary of its role in the disease.  If there is a coding region (CDS), please provide the translated sequence."
   ]
  },
  {
   "cell_type": "code",
   "execution_count": null,
   "metadata": {},
   "outputs": [],
   "source": []
  },
  {
   "cell_type": "markdown",
   "metadata": {},
   "source": [
    "# 9."
   ]
  },
  {
   "cell_type": "markdown",
   "metadata": {},
   "source": [
    "Now that you have written a program to help identify ORFs, let's turn it into a web application to make it accessible to researchers around the world.\n",
    "\n",
    "Using [Google App Engine](https://cloud.google.com/appengine/) you will create a barebones applications that will allow a user to input a DNA sequence and it will display all the potential ORFs.  \n",
    "\n",
    "Go through the following tutorials to get a web application up and running.\n",
    "* [Quickstart for Python 3 in the App Engine Standard Environment](https://cloud.google.com/appengine/docs/standard/python3/quickstart)\n",
    "* [Building a Python 3.7 App on App Engine](https://cloud.google.com/appengine/docs/standard/python3/building-app)\n",
    " - Only go through \"Deploying Your Web Service\"\n",
    "\n",
    "Once you have the sample up and running, check out this [example](https://github.com/uchicago-bio/mpcs56420-2020-spring/tree/master/assignment-2/app-engine-template) to see how to take text input from a form and display the results. Integrate your ORF finding code and display the results.\n",
    "\n",
    "Commit your code to your assignment repository and deploy your application. Type the url below."
   ]
  },
  {
   "cell_type": "markdown",
   "metadata": {},
   "source": [
    "\n",
    "_Please note that you do not (and should not) enable billing for this application on Google Cloud Platform. All the work you do will be within the quota, with a majority of it being done locally in the development enviroment._"
   ]
  },
  {
   "cell_type": "code",
   "execution_count": null,
   "metadata": {},
   "outputs": [],
   "source": []
  },
  {
   "cell_type": "markdown",
   "metadata": {},
   "source": [
    "# 10."
   ]
  },
  {
   "cell_type": "markdown",
   "metadata": {},
   "source": [
    "Find a news or scientific journal article related to a topic we are discussing this week. Post it in the #session-2 channel."
   ]
  },
  {
   "cell_type": "code",
   "execution_count": null,
   "metadata": {},
   "outputs": [],
   "source": []
  }
 ],
 "metadata": {
  "anaconda-cloud": {},
  "kernelspec": {
   "display_name": "Python 3.7.5 64-bit ('base': conda)",
   "language": "python",
   "name": "python37564bitbaseconda9e48b5d050f7450391b6d4b513187c58"
  },
  "language_info": {
   "codemirror_mode": {
    "name": "ipython",
    "version": 3
   },
   "file_extension": ".py",
   "mimetype": "text/x-python",
   "name": "python",
   "nbconvert_exporter": "python",
   "pygments_lexer": "ipython3",
   "version": "3.7.5"
  }
 },
 "nbformat": 4,
 "nbformat_minor": 2
}
